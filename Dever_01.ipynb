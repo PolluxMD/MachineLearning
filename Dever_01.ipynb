{
  "nbformat": 4,
  "nbformat_minor": 0,
  "metadata": {
    "colab": {
      "provenance": []
    },
    "kernelspec": {
      "name": "python3",
      "display_name": "Python 3"
    },
    "language_info": {
      "name": "python"
    }
  },
  "cells": [
    {
      "cell_type": "code",
      "execution_count": 1,
      "metadata": {
        "colab": {
          "base_uri": "https://localhost:8080/",
          "height": 349
        },
        "id": "_mfsOHB6cQzE",
        "outputId": "71c5a0d3-d158-4d82-a0ed-794fd02cc02c"
      },
      "outputs": [
        {
          "output_type": "stream",
          "name": "stdout",
          "text": [
            "Generating locales (this might take a while)...\n",
            "Generation complete.\n",
            "\u001b[1mdpkg-trigger:\u001b[0m \u001b[1;31merror:\u001b[0m must be called from a maintainer script (or with a --by-package option)\n",
            "\n",
            "Type dpkg-trigger --help for help about this utility.\n",
            "Generating locales (this might take a while)...\n",
            "  en_US.UTF-8... done\n",
            "  pt_BR.ISO-8859-1... done\n",
            "  pt_BR.UTF-8... done\n",
            "Generation complete.\n"
          ]
        },
        {
          "output_type": "error",
          "ename": "NameError",
          "evalue": "name 'os' is not defined",
          "traceback": [
            "\u001b[0;31m---------------------------------------------------------------------------\u001b[0m",
            "\u001b[0;31mNameError\u001b[0m                                 Traceback (most recent call last)",
            "\u001b[0;32m<ipython-input-1-c546a5d72a9e>\u001b[0m in \u001b[0;36m<cell line: 0>\u001b[0;34m()\u001b[0m\n\u001b[1;32m      3\u001b[0m \u001b[0mget_ipython\u001b[0m\u001b[0;34m(\u001b[0m\u001b[0;34m)\u001b[0m\u001b[0;34m.\u001b[0m\u001b[0msystem\u001b[0m\u001b[0;34m(\u001b[0m\u001b[0;34m'dpkg-reconfigure locales'\u001b[0m\u001b[0;34m)\u001b[0m\u001b[0;34m\u001b[0m\u001b[0;34m\u001b[0m\u001b[0m\n\u001b[1;32m      4\u001b[0m \u001b[0;31m# Reiniciar o processo Python\u001b[0m\u001b[0;34m\u001b[0m\u001b[0;34m\u001b[0m\u001b[0m\n\u001b[0;32m----> 5\u001b[0;31m \u001b[0mos\u001b[0m\u001b[0;34m.\u001b[0m\u001b[0mkill\u001b[0m\u001b[0;34m(\u001b[0m\u001b[0mos\u001b[0m\u001b[0;34m.\u001b[0m\u001b[0mgetpid\u001b[0m\u001b[0;34m(\u001b[0m\u001b[0;34m)\u001b[0m\u001b[0;34m,\u001b[0m \u001b[0;36m9\u001b[0m\u001b[0;34m)\u001b[0m\u001b[0;34m\u001b[0m\u001b[0;34m\u001b[0m\u001b[0m\n\u001b[0m",
            "\u001b[0;31mNameError\u001b[0m: name 'os' is not defined"
          ]
        }
      ],
      "source": [
        "# Instalar pt_BR\n",
        "!/usr/share/locales/install-language-pack pt_BR\n",
        "!dpkg-reconfigure locales\n",
        "# Reiniciar o processo Python\n",
        "os.kill(os.getpid(), 9)\n"
      ]
    },
    {
      "cell_type": "code",
      "source": [
        "import pandas as pd\n",
        "\n",
        "# Criando os dados\n",
        "dados = {\n",
        "    \"nome\": [\"Pablo Coelho\", \"Mariana Ferreira\", \"Carlos Souza\", \"Ana Lima\", \"Lucas Oliveira\"],\n",
        "    \"dataNasc\": [\"26/01/1974\", \"26/04/1995\", \"15/08/1988\", \"10/11/2000\", \"05/06/1993\"],\n",
        "    \"dataCadastrado\": [\"2025/02/17\", \"2025/02/17\", \"2025/02/17\", \"2025/02/17\", \"2025/02/17\"],\n",
        "    \"horaCadastro\": [\"20:30\", \"20:31\", \"20:32\", \"20:33\", \"20:34\"]\n",
        "}\n",
        "\n",
        "# Criando o DataFrame e salvando o arquivo\n",
        "df = pd.DataFrame(dados)\n",
        "df.to_csv(\"cadastro.csv\", index=False)\n",
        "\n",
        "print(\"Arquivo CSV criado!\")"
      ],
      "metadata": {
        "colab": {
          "base_uri": "https://localhost:8080/"
        },
        "id": "LsPk5NyUfSxH",
        "outputId": "b89e7bb0-2f19-4c4e-f14a-802e5fed76ff"
      },
      "execution_count": 2,
      "outputs": [
        {
          "output_type": "stream",
          "name": "stdout",
          "text": [
            "Arquivo CSV criado!\n"
          ]
        }
      ]
    },
    {
      "cell_type": "code",
      "source": [
        "import pandas as pd\n",
        "from datetime import datetime\n",
        "\n",
        "# Lendo o arquivo CSV\n",
        "df = pd.read_csv(\"cadastro.csv\")\n",
        "\n",
        "# Solicitando um número ao usuário\n",
        "num_registro = int(input(\"Digite o número do registro (1 a 5): \")) - 1\n",
        "\n",
        "# Verifica se o número é válido\n",
        "if 0 <= num_registro < len(df):\n",
        "    nome = df.loc[num_registro, \"nome\"]\n",
        "    data_nasc = df.loc[num_registro, \"dataNasc\"]\n",
        "\n",
        "    # Formatando a data de cadastro para o padrão brasileiro\n",
        "    data_cad = datetime.strptime(df.loc[num_registro, \"dataCadastrado\"], \"%Y/%m/%d\").strftime(\"%d/%m/%Y\")\n",
        "    hora_cad = df.loc[num_registro, \"horaCadastro\"]\n",
        "\n",
        "    print(f\"Registro {num_registro+1}: Nome: {nome}; Data de nascimento: {data_nasc}; Data de cadastro: {data_cad} às {hora_cad} horas.\")\n",
        "else:\n",
        "    print(\"Número de registro inválido!\")"
      ],
      "metadata": {
        "id": "DF6D9VMggOct"
      },
      "execution_count": null,
      "outputs": []
    }
  ]
}